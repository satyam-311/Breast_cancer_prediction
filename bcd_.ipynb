{
 "cells": [
  {
   "cell_type": "code",
   "execution_count": 1,
   "id": "858918a8",
   "metadata": {},
   "outputs": [],
   "source": [
    "# 1. Import libraries\n",
    "import torch\n",
    "import torch.nn as nn\n",
    "import torch.optim as optim\n",
    "from sklearn.datasets import load_breast_cancer\n",
    "from sklearn.model_selection import train_test_split\n",
    "from sklearn.preprocessing import StandardScaler"
   ]
  },
  {
   "cell_type": "code",
   "execution_count": 2,
   "id": "4c944e2f",
   "metadata": {},
   "outputs": [],
   "source": [
    "# 2. Load dataset\n",
    "data = load_breast_cancer()\n",
    "X, y = data.data, data.target  # X = features, y = labels (0 = malignant, 1 = benign)"
   ]
  },
  {
   "cell_type": "code",
   "execution_count": 3,
   "id": "24c89e94",
   "metadata": {},
   "outputs": [],
   "source": [
    "# 3. Preprocess\n",
    "scaler = StandardScaler()\n",
    "X = scaler.fit_transform(X)  # scale features for better convergence\n"
   ]
  },
  {
   "cell_type": "code",
   "execution_count": 4,
   "id": "7a1747c2",
   "metadata": {},
   "outputs": [],
   "source": [
    "# convert to torch tensors\n",
    "X = torch.tensor(X, dtype=torch.float32)\n",
    "y = torch.tensor(y, dtype=torch.float32).view(-1, 1)  # reshape to (n,1)\n"
   ]
  },
  {
   "cell_type": "code",
   "execution_count": 5,
   "id": "e1d169af",
   "metadata": {},
   "outputs": [],
   "source": [
    "# train-test split\n",
    "X_train, X_test, y_train, y_test = train_test_split(X, y, test_size=0.2, random_state=42)\n"
   ]
  },
  {
   "cell_type": "code",
   "execution_count": 6,
   "id": "af114312",
   "metadata": {},
   "outputs": [],
   "source": [
    "# 4. Define Neural Network\n",
    "class BreastCancerNN(nn.Module):\n",
    "    def __init__(self, input_size):\n",
    "        super(BreastCancerNN, self).__init__()\n",
    "        self.fc1 = nn.Linear(input_size, 32)   # first hidden layer\n",
    "        self.fc2 = nn.Linear(32, 16)           # second hidden layer\n",
    "        self.fc3 = nn.Linear(16, 1)            # output layer\n",
    "        self.relu = nn.ReLU()\n",
    "        self.sigmoid = nn.Sigmoid()\n",
    "\n",
    "    def forward(self, x):\n",
    "        x = self.relu(self.fc1(x))\n",
    "        x = self.relu(self.fc2(x))\n",
    "        x = self.sigmoid(self.fc3(x))  # probability of benign (1)\n",
    "        return x\n"
   ]
  },
  {
   "cell_type": "code",
   "execution_count": 7,
   "id": "90ae5e79",
   "metadata": {},
   "outputs": [],
   "source": [
    "# initialize model\n",
    "model = BreastCancerNN(X.shape[1])\n"
   ]
  },
  {
   "cell_type": "code",
   "execution_count": 8,
   "id": "40bfd8d0",
   "metadata": {},
   "outputs": [],
   "source": [
    "# initialize model\n",
    "model = BreastCancerNN(X.shape[1])"
   ]
  },
  {
   "cell_type": "code",
   "execution_count": 9,
   "id": "5317f68e",
   "metadata": {},
   "outputs": [],
   "source": [
    "# 5. Define loss & optimizer\n",
    "criterion = nn.BCELoss()  # binary cross entropy loss\n",
    "optimizer = optim.Adam(model.parameters(), lr=0.001)"
   ]
  },
  {
   "cell_type": "code",
   "execution_count": 10,
   "id": "56454e59",
   "metadata": {},
   "outputs": [
    {
     "name": "stdout",
     "output_type": "stream",
     "text": [
      "Epoch [10/50], Loss: 0.6710\n",
      "Epoch [20/50], Loss: 0.6037\n",
      "Epoch [30/50], Loss: 0.5202\n",
      "Epoch [40/50], Loss: 0.4268\n",
      "Epoch [50/50], Loss: 0.3386\n"
     ]
    }
   ],
   "source": [
    "# 6. Training loop\n",
    "epochs = 50\n",
    "for epoch in range(epochs):\n",
    "    # forward pass\n",
    "    outputs = model(X_train)\n",
    "    loss = criterion(outputs, y_train)\n",
    "\n",
    "    # backward pass\n",
    "    optimizer.zero_grad()\n",
    "    loss.backward()\n",
    "    optimizer.step()\n",
    "\n",
    "    if (epoch+1) % 10 == 0:\n",
    "        print(f\"Epoch [{epoch+1}/{epochs}], Loss: {loss.item():.4f}\")\n"
   ]
  },
  {
   "cell_type": "code",
   "execution_count": 11,
   "id": "939eb8a7",
   "metadata": {},
   "outputs": [
    {
     "name": "stdout",
     "output_type": "stream",
     "text": [
      "Accuracy: 96.49%\n"
     ]
    }
   ],
   "source": [
    "# 7. Evaluation\n",
    "with torch.no_grad():\n",
    "    y_pred = model(X_test)\n",
    "    y_pred_classes = (y_pred > 0.5).float()\n",
    "    acc = (y_pred_classes.eq(y_test).sum() / y_test.shape[0]).item()\n",
    "    print(f\"Accuracy: {acc*100:.2f}%\")"
   ]
  },
  {
   "cell_type": "code",
   "execution_count": 12,
   "id": "1cf2973d",
   "metadata": {},
   "outputs": [
    {
     "name": "stderr",
     "output_type": "stream",
     "text": [
      "2025-09-03 16:39:12.838 WARNING streamlit.runtime.scriptrunner_utils.script_run_context: Thread 'MainThread': missing ScriptRunContext! This warning can be ignored when running in bare mode.\n",
      "2025-09-03 16:39:12.935 \n",
      "  \u001b[33m\u001b[1mWarning:\u001b[0m to view this Streamlit app on a browser, run it with the following\n",
      "  command:\n",
      "\n",
      "    streamlit run C:\\Users\\Satyam Mishra\\AppData\\Roaming\\Python\\Python313\\site-packages\\ipykernel_launcher.py [ARGUMENTS]\n",
      "2025-09-03 16:39:12.935 Thread 'MainThread': missing ScriptRunContext! This warning can be ignored when running in bare mode.\n",
      "2025-09-03 16:39:12.936 Thread 'MainThread': missing ScriptRunContext! This warning can be ignored when running in bare mode.\n",
      "2025-09-03 16:39:12.937 Thread 'MainThread': missing ScriptRunContext! This warning can be ignored when running in bare mode.\n",
      "2025-09-03 16:39:12.937 Thread 'MainThread': missing ScriptRunContext! This warning can be ignored when running in bare mode.\n",
      "2025-09-03 16:39:12.938 Thread 'MainThread': missing ScriptRunContext! This warning can be ignored when running in bare mode.\n",
      "2025-09-03 16:39:12.939 Thread 'MainThread': missing ScriptRunContext! This warning can be ignored when running in bare mode.\n",
      "2025-09-03 16:39:12.939 Thread 'MainThread': missing ScriptRunContext! This warning can be ignored when running in bare mode.\n",
      "2025-09-03 16:39:12.940 Thread 'MainThread': missing ScriptRunContext! This warning can be ignored when running in bare mode.\n",
      "2025-09-03 16:39:12.940 Thread 'MainThread': missing ScriptRunContext! This warning can be ignored when running in bare mode.\n",
      "2025-09-03 16:39:12.941 Thread 'MainThread': missing ScriptRunContext! This warning can be ignored when running in bare mode.\n",
      "2025-09-03 16:39:12.941 Thread 'MainThread': missing ScriptRunContext! This warning can be ignored when running in bare mode.\n"
     ]
    }
   ],
   "source": [
    "import streamlit as st\n",
    "\n",
    "# after training and evaluation\n",
    "st.title(\"🩺 Breast Cancer Prediction using Neural Network\")\n",
    "st.write(f\"Final Accuracy: {acc*100:.2f}%\")\n",
    "\n",
    "# simple user input demo\n",
    "if st.button(\"Predict on Test Sample\"):\n",
    "    sample = X_test[0].unsqueeze(0)  # take 1 test sample\n",
    "    with torch.no_grad():\n",
    "        pred = model(sample).item()\n",
    "    st.write(\"Prediction:\", \"Benign ✅\" if pred > 0.5 else \"Malignant ⚠️\")\n"
   ]
  },
  {
   "cell_type": "code",
   "execution_count": null,
   "id": "abaad74c",
   "metadata": {},
   "outputs": [],
   "source": []
  }
 ],
 "metadata": {
  "kernelspec": {
   "display_name": "Python 3",
   "language": "python",
   "name": "python3"
  },
  "language_info": {
   "codemirror_mode": {
    "name": "ipython",
    "version": 3
   },
   "file_extension": ".py",
   "mimetype": "text/x-python",
   "name": "python",
   "nbconvert_exporter": "python",
   "pygments_lexer": "ipython3",
   "version": "3.13.5"
  }
 },
 "nbformat": 4,
 "nbformat_minor": 5
}
